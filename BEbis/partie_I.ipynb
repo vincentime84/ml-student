{
  "cells": [
    {
      "cell_type": "markdown",
      "id": "02e2e08d-2b3a-4cbf-89df-51f34c366cb9",
      "metadata": {
        "id": "02e2e08d-2b3a-4cbf-89df-51f34c366cb9"
      },
      "source": [
        "# Deep Learning Exam:\n",
        "\n",
        "## Part I : Modeling and solving partial differential equations using neural layers.\n",
        "\n",
        "---\n",
        "\n",
        "The numerical methods and neural networks are in two different domains and we rarely see them combined. However, solving a PDE using differentiable operations (operations that can be back-propagated through) is a very interesting and promising approach toward a more hybrid approaches integrating PDE into deep learning. In this exam, you will be required to model and solve a partial differential equation using neural layers.\n",
        "## Instructions:\n",
        "- You are required to complete the code cells and provide explanations where necessary.\n",
        "- Ensure that your code is well-documented and organized.\n",
        "- After completing the exam, save this notebook and submit it for evaluation.\n",
        "\n",
        "---\n",
        "\n",
        "### Task 1: Modeling the Advection equation\n",
        "In this task, the convolution operation can be used to compute the spatial derivatives of a function, by convolving the function with a kernel that contains the finite difference coefficients. The `AdvectionCentralDiff` class provided below models the advection equation using central difference scheme.\n",
        "#### Question:\n",
        "- Complete the `AdvectionCentralDiff` class provided below modeling the advection equation using central difference scheme.\n",
        "$$\\frac{\\partial f}{\\partial t} + V\\cdot \\nabla f = 0$$\n",
        "where \\(V\\) is the velocity (field or scalar), \\(f\\) is the function to be solved, and $V\\cdot \\nabla f = V_x \\frac{\\partial f}{\\partial x} + V_y \\frac{\\partial f}{\\partial y}$.\n",
        "- For the x-axis, use the the following kernel:\n",
        "$$\\begin{bmatrix}\n",
        "0 & a & 0\\\\\n",
        "0 & b & 0\\\\\n",
        "0 & c & 0\n",
        "\\end{bmatrix}$$\n",
        "where $a, b, c$ are the finite difference coefficients.\n",
        "- For the y-axis, use the the following kernel:\n",
        "$$\\begin{bmatrix}\n",
        "0 & 0 & 0\\\\\n",
        "a & b & c\\\\\n",
        "0 & 0 & 0\n",
        "\\end{bmatrix}$$\n",
        "where $a, b, c$ are the finite difference coefficients."
      ]
    },
    {
      "cell_type": "code",
      "execution_count": 134,
      "id": "a31529e8-0c98-4edd-9901-dea298881608",
      "metadata": {
        "id": "a31529e8-0c98-4edd-9901-dea298881608"
      },
      "outputs": [],
      "source": [
        "import torch\n",
        "import torch.nn as nn\n",
        "import torch.nn.functional as F\n",
        "\n",
        "class AdvectionCentralDiff(nn.Module):\n",
        "    \"\"\"\n",
        "    A class to represent the finite difference method for solving the advection equation.\n",
        "\n",
        "    Attributes:\n",
        "        dx (tuple): Grid spacing in x and y directions.\n",
        "    \"\"\"\n",
        "\n",
        "    def __init__(self, dx: tuple = (1. / 256, 1. / 256)):\n",
        "        super().__init__()\n",
        "        self.dx = dx[0]\n",
        "        self.dy = dx[1]\n",
        "        # Padding\n",
        "        self.pad = {'pad': (1, 1, 1, 1), 'mode': \"replicate\"}\n",
        "        # Central difference kernel, check the documentation for the correct shape\n",
        "        self.kernel_Dc_x1 = torch.tensor([[0,-1/(2*self.dx), 0],[0,0,0],[0,1/(2*self.dx),0]]).repeat(1,1,1,1)\n",
        "        self.kernel_Dc_y1 = torch.tensor([[0, 0, 0],[-1/(2*self.dy), 0, 1/(2*self.dy)],[0,0,0]]).repeat(1,1,1,1)\n",
        "        self.bias = torch.Tensor([0.])\n",
        "        print(self.kernel_Dc_x1)\n",
        "\n",
        "    def set_device(self, device: str or int):\n",
        "        \"\"\"\n",
        "        Set GPU ID.\n",
        "\n",
        "        Args:\n",
        "            device (str or int): GPU id, e.g. 'cuda:0', 'cuda:1', etc. or 'cpu'\n",
        "        \"\"\"\n",
        "        self.device = device\n",
        "        self.bias = self.bias.to(device)\n",
        "        self.kernel_Dc_x1 = self.kernel_Dc_x1.to(device)\n",
        "        self.kernel_Dc_y1 = self.kernel_Dc_y1.to(device)\n",
        "\n",
        "\n",
        "    def forward(self, inputs: torch.Tensor) -> torch.Tensor:\n",
        "        \"\"\"\n",
        "        Forward method.\n",
        "\n",
        "        Args:\n",
        "            inputs (torch.Tensor): Inputs equation variables.\n",
        "\n",
        "        Returns:\n",
        "            torch.Tensor: Trend tensor.\n",
        "        \"\"\"\n",
        "        f, u, v= inputs[0],inputs[1],inputs[2]\n",
        "\n",
        "        # Apply padding using pad function to maintain the size of the input tensor\n",
        "        padded_f = F.pad(f, pad = (2,2))\n",
        "\n",
        "        # Apply the central difference kernel to the input tensor\n",
        "        Dc_x_o1 = F.conv2d(padded_f, self.kernel_Dc_x1, padding = (1, 1))\n",
        "        Dc_y_o1 = F.conv2d(padded_f, self.kernel_Dc_y1, padding = (1,1))\n",
        "\n",
        "        # trend represents the time derivative of the input variable\n",
        "        trend = - u*Dc_x_o1 - v*Dc_y_o1\n",
        "        return trend"
      ]
    },
    {
      "cell_type": "markdown",
      "id": "f7155bdb-d7b0-4421-b57c-5fb2c43d3c19",
      "metadata": {
        "id": "f7155bdb-d7b0-4421-b57c-5fb2c43d3c19"
      },
      "source": [
        "### Task 2: Implementing the time integration scheme\n",
        "\n",
        "#### Question:\n",
        "- Complete the `RungeKutta4` class provided below. The class should implement the fourth-order Runge-Kutta method for solving ordinary differential equations."
      ]
    },
    {
      "cell_type": "code",
      "execution_count": 135,
      "id": "488f2e18-27d9-4b0a-b9d9-3f8c97ca1309",
      "metadata": {
        "id": "488f2e18-27d9-4b0a-b9d9-3f8c97ca1309"
      },
      "outputs": [],
      "source": [
        "class RungeKutta4(nn.Module):\n",
        "    \"\"\"\n",
        "    PyTorch module implementing the 4th order Runge-Kutta (RK4) scheme for solving the advection equation.\n",
        "\n",
        "    Args:\n",
        "        trend (module): A Model that takes as inputs tensors representing the temperature field at time t\n",
        "            and returns a tensor representing the trend at time t.\n",
        "        dt (float): The time step size.\n",
        "    \"\"\"\n",
        "\n",
        "    def __init__(self, trend: nn.Module, dt=1):\n",
        "        super().__init__()\n",
        "        self.trend = trend\n",
        "        self.dt = dt\n",
        "\n",
        "\n",
        "\n",
        "    def forward(self, inputs) -> torch.Tensor:\n",
        "        \"\"\"\n",
        "        Computes one step of the 4th order Runge-Kutta scheme.\n",
        "\n",
        "        Args:\n",
        "            inputs (torch.Tensor): Temperature field at time t.\n",
        "\n",
        "        Returns:\n",
        "            torch.Tensor: The temperature field at time t + dt.\n",
        "        \"\"\"\n",
        "\n",
        "        f, u, v= inputs[0],inputs[1],inputs[2]\n",
        "\n",
        "        # trend represents the time derivative of the input variable\n",
        "        k1 = self.trend(f, u, v)\n",
        "        k2 = self.trend(f + self.dt*0.5*k1, u, v)\n",
        "        k3 = self.trend(f + self.dt*0.5*k2, u, v)\n",
        "        k4 = self.trend(f + self.dt*k3, u, v)\n",
        "\n",
        "        return f + (k1+k2*2+k3*2+k4)*(self.dt/6)"
      ]
    },
    {
      "cell_type": "markdown",
      "id": "333b5c35-a51e-4921-acb8-891aac9528df",
      "metadata": {
        "id": "333b5c35-a51e-4921-acb8-891aac9528df"
      },
      "source": [
        "### Task 3: Solving the advection equation using the implemented classes\n",
        "\n",
        "#### Question:\n",
        "1. Instantiate an object of the `AdvectionCentralDiff` class.\n",
        "2. Instantiate an object of the `RungeKutta4` class, passing the `AdvectionCentralDiff` object as a parameter.\n",
        "3. Make sure that the time step verifies the CFL condition.\n",
        "4. Perform 100 iterations of the time integration scheme.\n",
        "\n",
        "You can play with the parameters and initial conditions to see how the solution behaves."
      ]
    },
    {
      "cell_type": "code",
      "execution_count": 142,
      "id": "7b6fb32d-e9dd-46b3-9087-8af752e3583f",
      "metadata": {
        "colab": {
          "base_uri": "https://localhost:8080/",
          "height": 454
        },
        "id": "7b6fb32d-e9dd-46b3-9087-8af752e3583f",
        "outputId": "e4776392-c526-40ca-b4f9-fa57507b3610"
      },
      "outputs": [
        {
          "output_type": "stream",
          "name": "stdout",
          "text": [
            "time step: tensor(0.0100)\n",
            "tensor([[[[   0., -128.,    0.],\n",
            "          [   0.,    0.,    0.],\n",
            "          [   0.,  128.,    0.]]]])\n",
            "torch.Size([256, 256])\n"
          ]
        },
        {
          "output_type": "error",
          "ename": "TypeError",
          "evalue": "AdvectionCentralDiff.forward() takes 2 positional arguments but 4 were given",
          "traceback": [
            "\u001b[0;31m---------------------------------------------------------------------------\u001b[0m",
            "\u001b[0;31mTypeError\u001b[0m                                 Traceback (most recent call last)",
            "\u001b[0;32m<ipython-input-142-cd7eb6c2c1f1>\u001b[0m in \u001b[0;36m<cell line: 34>\u001b[0;34m()\u001b[0m\n\u001b[1;32m     34\u001b[0m \u001b[0;32mfor\u001b[0m \u001b[0m_\u001b[0m \u001b[0;32min\u001b[0m \u001b[0mrange\u001b[0m\u001b[0;34m(\u001b[0m\u001b[0mniters\u001b[0m \u001b[0;34m-\u001b[0m \u001b[0;36m1\u001b[0m\u001b[0;34m)\u001b[0m\u001b[0;34m:\u001b[0m\u001b[0;34m\u001b[0m\u001b[0;34m\u001b[0m\u001b[0m\n\u001b[1;32m     35\u001b[0m \u001b[0;34m\u001b[0m\u001b[0m\n\u001b[0;32m---> 36\u001b[0;31m     \u001b[0mresult\u001b[0m \u001b[0;34m=\u001b[0m \u001b[0mrk4_solver\u001b[0m\u001b[0;34m(\u001b[0m\u001b[0;34m[\u001b[0m\u001b[0mlist_res\u001b[0m\u001b[0;34m[\u001b[0m\u001b[0;34m-\u001b[0m\u001b[0;36m1\u001b[0m\u001b[0;34m]\u001b[0m\u001b[0;34m,\u001b[0m \u001b[0mu\u001b[0m\u001b[0;34m,\u001b[0m \u001b[0mv\u001b[0m\u001b[0;34m]\u001b[0m\u001b[0;34m)\u001b[0m\u001b[0;34m\u001b[0m\u001b[0;34m\u001b[0m\u001b[0m\n\u001b[0m\u001b[1;32m     37\u001b[0m     \u001b[0mlist_res\u001b[0m\u001b[0;34m.\u001b[0m\u001b[0mappend\u001b[0m\u001b[0;34m(\u001b[0m\u001b[0mresult\u001b[0m\u001b[0;34m)\u001b[0m\u001b[0;34m\u001b[0m\u001b[0;34m\u001b[0m\u001b[0m\n\u001b[1;32m     38\u001b[0m \u001b[0mlist_res\u001b[0m \u001b[0;34m=\u001b[0m \u001b[0mtorch\u001b[0m\u001b[0;34m.\u001b[0m\u001b[0mcat\u001b[0m\u001b[0;34m(\u001b[0m\u001b[0mlist_res\u001b[0m\u001b[0;34m)\u001b[0m\u001b[0;34m.\u001b[0m\u001b[0mcpu\u001b[0m\u001b[0;34m(\u001b[0m\u001b[0;34m)\u001b[0m\u001b[0;34m.\u001b[0m\u001b[0mdetach\u001b[0m\u001b[0;34m(\u001b[0m\u001b[0;34m)\u001b[0m\u001b[0;34m.\u001b[0m\u001b[0mnumpy\u001b[0m\u001b[0;34m(\u001b[0m\u001b[0;34m)\u001b[0m\u001b[0;34m\u001b[0m\u001b[0;34m\u001b[0m\u001b[0m\n",
            "\u001b[0;32m/usr/local/lib/python3.10/dist-packages/torch/nn/modules/module.py\u001b[0m in \u001b[0;36m_wrapped_call_impl\u001b[0;34m(self, *args, **kwargs)\u001b[0m\n\u001b[1;32m   1509\u001b[0m             \u001b[0;32mreturn\u001b[0m \u001b[0mself\u001b[0m\u001b[0;34m.\u001b[0m\u001b[0m_compiled_call_impl\u001b[0m\u001b[0;34m(\u001b[0m\u001b[0;34m*\u001b[0m\u001b[0margs\u001b[0m\u001b[0;34m,\u001b[0m \u001b[0;34m**\u001b[0m\u001b[0mkwargs\u001b[0m\u001b[0;34m)\u001b[0m  \u001b[0;31m# type: ignore[misc]\u001b[0m\u001b[0;34m\u001b[0m\u001b[0;34m\u001b[0m\u001b[0m\n\u001b[1;32m   1510\u001b[0m         \u001b[0;32melse\u001b[0m\u001b[0;34m:\u001b[0m\u001b[0;34m\u001b[0m\u001b[0;34m\u001b[0m\u001b[0m\n\u001b[0;32m-> 1511\u001b[0;31m             \u001b[0;32mreturn\u001b[0m \u001b[0mself\u001b[0m\u001b[0;34m.\u001b[0m\u001b[0m_call_impl\u001b[0m\u001b[0;34m(\u001b[0m\u001b[0;34m*\u001b[0m\u001b[0margs\u001b[0m\u001b[0;34m,\u001b[0m \u001b[0;34m**\u001b[0m\u001b[0mkwargs\u001b[0m\u001b[0;34m)\u001b[0m\u001b[0;34m\u001b[0m\u001b[0;34m\u001b[0m\u001b[0m\n\u001b[0m\u001b[1;32m   1512\u001b[0m \u001b[0;34m\u001b[0m\u001b[0m\n\u001b[1;32m   1513\u001b[0m     \u001b[0;32mdef\u001b[0m \u001b[0m_call_impl\u001b[0m\u001b[0;34m(\u001b[0m\u001b[0mself\u001b[0m\u001b[0;34m,\u001b[0m \u001b[0;34m*\u001b[0m\u001b[0margs\u001b[0m\u001b[0;34m,\u001b[0m \u001b[0;34m**\u001b[0m\u001b[0mkwargs\u001b[0m\u001b[0;34m)\u001b[0m\u001b[0;34m:\u001b[0m\u001b[0;34m\u001b[0m\u001b[0;34m\u001b[0m\u001b[0m\n",
            "\u001b[0;32m/usr/local/lib/python3.10/dist-packages/torch/nn/modules/module.py\u001b[0m in \u001b[0;36m_call_impl\u001b[0;34m(self, *args, **kwargs)\u001b[0m\n\u001b[1;32m   1518\u001b[0m                 \u001b[0;32mor\u001b[0m \u001b[0m_global_backward_pre_hooks\u001b[0m \u001b[0;32mor\u001b[0m \u001b[0m_global_backward_hooks\u001b[0m\u001b[0;34m\u001b[0m\u001b[0;34m\u001b[0m\u001b[0m\n\u001b[1;32m   1519\u001b[0m                 or _global_forward_hooks or _global_forward_pre_hooks):\n\u001b[0;32m-> 1520\u001b[0;31m             \u001b[0;32mreturn\u001b[0m \u001b[0mforward_call\u001b[0m\u001b[0;34m(\u001b[0m\u001b[0;34m*\u001b[0m\u001b[0margs\u001b[0m\u001b[0;34m,\u001b[0m \u001b[0;34m**\u001b[0m\u001b[0mkwargs\u001b[0m\u001b[0;34m)\u001b[0m\u001b[0;34m\u001b[0m\u001b[0;34m\u001b[0m\u001b[0m\n\u001b[0m\u001b[1;32m   1521\u001b[0m \u001b[0;34m\u001b[0m\u001b[0m\n\u001b[1;32m   1522\u001b[0m         \u001b[0;32mtry\u001b[0m\u001b[0;34m:\u001b[0m\u001b[0;34m\u001b[0m\u001b[0;34m\u001b[0m\u001b[0m\n",
            "\u001b[0;32m<ipython-input-135-387dcffafeff>\u001b[0m in \u001b[0;36mforward\u001b[0;34m(self, inputs)\u001b[0m\n\u001b[1;32m     30\u001b[0m \u001b[0;34m\u001b[0m\u001b[0m\n\u001b[1;32m     31\u001b[0m         \u001b[0;31m# trend represents the time derivative of the input variable\u001b[0m\u001b[0;34m\u001b[0m\u001b[0;34m\u001b[0m\u001b[0m\n\u001b[0;32m---> 32\u001b[0;31m         \u001b[0mk1\u001b[0m \u001b[0;34m=\u001b[0m \u001b[0mself\u001b[0m\u001b[0;34m.\u001b[0m\u001b[0mtrend\u001b[0m\u001b[0;34m(\u001b[0m\u001b[0mf\u001b[0m\u001b[0;34m,\u001b[0m \u001b[0mu\u001b[0m\u001b[0;34m,\u001b[0m \u001b[0mv\u001b[0m\u001b[0;34m)\u001b[0m\u001b[0;34m\u001b[0m\u001b[0;34m\u001b[0m\u001b[0m\n\u001b[0m\u001b[1;32m     33\u001b[0m         \u001b[0mk2\u001b[0m \u001b[0;34m=\u001b[0m \u001b[0mself\u001b[0m\u001b[0;34m.\u001b[0m\u001b[0mtrend\u001b[0m\u001b[0;34m(\u001b[0m\u001b[0mf\u001b[0m \u001b[0;34m+\u001b[0m \u001b[0mself\u001b[0m\u001b[0;34m.\u001b[0m\u001b[0mdt\u001b[0m\u001b[0;34m*\u001b[0m\u001b[0;36m0.5\u001b[0m\u001b[0;34m*\u001b[0m\u001b[0mk1\u001b[0m\u001b[0;34m,\u001b[0m \u001b[0mu\u001b[0m\u001b[0;34m,\u001b[0m \u001b[0mv\u001b[0m\u001b[0;34m)\u001b[0m\u001b[0;34m\u001b[0m\u001b[0;34m\u001b[0m\u001b[0m\n\u001b[1;32m     34\u001b[0m         \u001b[0mk3\u001b[0m \u001b[0;34m=\u001b[0m \u001b[0mself\u001b[0m\u001b[0;34m.\u001b[0m\u001b[0mtrend\u001b[0m\u001b[0;34m(\u001b[0m\u001b[0mf\u001b[0m \u001b[0;34m+\u001b[0m \u001b[0mself\u001b[0m\u001b[0;34m.\u001b[0m\u001b[0mdt\u001b[0m\u001b[0;34m*\u001b[0m\u001b[0;36m0.5\u001b[0m\u001b[0;34m*\u001b[0m\u001b[0mk2\u001b[0m\u001b[0;34m,\u001b[0m \u001b[0mu\u001b[0m\u001b[0;34m,\u001b[0m \u001b[0mv\u001b[0m\u001b[0;34m)\u001b[0m\u001b[0;34m\u001b[0m\u001b[0;34m\u001b[0m\u001b[0m\n",
            "\u001b[0;32m/usr/local/lib/python3.10/dist-packages/torch/nn/modules/module.py\u001b[0m in \u001b[0;36m_wrapped_call_impl\u001b[0;34m(self, *args, **kwargs)\u001b[0m\n\u001b[1;32m   1509\u001b[0m             \u001b[0;32mreturn\u001b[0m \u001b[0mself\u001b[0m\u001b[0;34m.\u001b[0m\u001b[0m_compiled_call_impl\u001b[0m\u001b[0;34m(\u001b[0m\u001b[0;34m*\u001b[0m\u001b[0margs\u001b[0m\u001b[0;34m,\u001b[0m \u001b[0;34m**\u001b[0m\u001b[0mkwargs\u001b[0m\u001b[0;34m)\u001b[0m  \u001b[0;31m# type: ignore[misc]\u001b[0m\u001b[0;34m\u001b[0m\u001b[0;34m\u001b[0m\u001b[0m\n\u001b[1;32m   1510\u001b[0m         \u001b[0;32melse\u001b[0m\u001b[0;34m:\u001b[0m\u001b[0;34m\u001b[0m\u001b[0;34m\u001b[0m\u001b[0m\n\u001b[0;32m-> 1511\u001b[0;31m             \u001b[0;32mreturn\u001b[0m \u001b[0mself\u001b[0m\u001b[0;34m.\u001b[0m\u001b[0m_call_impl\u001b[0m\u001b[0;34m(\u001b[0m\u001b[0;34m*\u001b[0m\u001b[0margs\u001b[0m\u001b[0;34m,\u001b[0m \u001b[0;34m**\u001b[0m\u001b[0mkwargs\u001b[0m\u001b[0;34m)\u001b[0m\u001b[0;34m\u001b[0m\u001b[0;34m\u001b[0m\u001b[0m\n\u001b[0m\u001b[1;32m   1512\u001b[0m \u001b[0;34m\u001b[0m\u001b[0m\n\u001b[1;32m   1513\u001b[0m     \u001b[0;32mdef\u001b[0m \u001b[0m_call_impl\u001b[0m\u001b[0;34m(\u001b[0m\u001b[0mself\u001b[0m\u001b[0;34m,\u001b[0m \u001b[0;34m*\u001b[0m\u001b[0margs\u001b[0m\u001b[0;34m,\u001b[0m \u001b[0;34m**\u001b[0m\u001b[0mkwargs\u001b[0m\u001b[0;34m)\u001b[0m\u001b[0;34m:\u001b[0m\u001b[0;34m\u001b[0m\u001b[0;34m\u001b[0m\u001b[0m\n",
            "\u001b[0;32m/usr/local/lib/python3.10/dist-packages/torch/nn/modules/module.py\u001b[0m in \u001b[0;36m_call_impl\u001b[0;34m(self, *args, **kwargs)\u001b[0m\n\u001b[1;32m   1518\u001b[0m                 \u001b[0;32mor\u001b[0m \u001b[0m_global_backward_pre_hooks\u001b[0m \u001b[0;32mor\u001b[0m \u001b[0m_global_backward_hooks\u001b[0m\u001b[0;34m\u001b[0m\u001b[0;34m\u001b[0m\u001b[0m\n\u001b[1;32m   1519\u001b[0m                 or _global_forward_hooks or _global_forward_pre_hooks):\n\u001b[0;32m-> 1520\u001b[0;31m             \u001b[0;32mreturn\u001b[0m \u001b[0mforward_call\u001b[0m\u001b[0;34m(\u001b[0m\u001b[0;34m*\u001b[0m\u001b[0margs\u001b[0m\u001b[0;34m,\u001b[0m \u001b[0;34m**\u001b[0m\u001b[0mkwargs\u001b[0m\u001b[0;34m)\u001b[0m\u001b[0;34m\u001b[0m\u001b[0;34m\u001b[0m\u001b[0m\n\u001b[0m\u001b[1;32m   1521\u001b[0m \u001b[0;34m\u001b[0m\u001b[0m\n\u001b[1;32m   1522\u001b[0m         \u001b[0;32mtry\u001b[0m\u001b[0;34m:\u001b[0m\u001b[0;34m\u001b[0m\u001b[0;34m\u001b[0m\u001b[0m\n",
            "\u001b[0;31mTypeError\u001b[0m: AdvectionCentralDiff.forward() takes 2 positional arguments but 4 were given"
          ]
        }
      ],
      "source": [
        "\n",
        "import numpy as np\n",
        "# Set the device (e.g., GPU or CPU)\n",
        "device = 'cuda:0' if torch.cuda.is_available() else 'cpu'\n",
        "# Setting grid parameters\n",
        "h = 256\n",
        "l = 256\n",
        "dx, dy = 1/h, 1/l\n",
        "X = torch.linspace(-1, 1, h)\n",
        "Y = torch.linspace(-1, 1, l)\n",
        "x, y = torch.meshgrid(X, Y)\n",
        "# Initial condition\n",
        "c_initial = torch.exp(-10 * (x ** 2 + y ** 2)).unsqueeze(0).unsqueeze(0).to(device)\n",
        "# Advection velocity\n",
        "u = dx*20*torch.ones((h,l)).unsqueeze(0).unsqueeze(0).to(device)\n",
        "v = dy*15*torch.ones((h,l)).unsqueeze(0).unsqueeze(0).to(device)\n",
        "# Time step\n",
        "CFL = (u.max())/dx\n",
        "dt = 0.2/CFL\n",
        "print('time step:', dt)\n",
        "\n",
        "pde = AdvectionCentralDiff(dx = (dx, dy))\n",
        "rk4_solver = RungeKutta4(pde, dt=dt)\n",
        "\n",
        "# Set the device (e.g., GPU or CPU)\n",
        "device = 'cuda:0' if torch.cuda.is_available() else 'cpu'\n",
        "pde.set_device(device)\n",
        "rk4_solver.to(device)\n",
        "\n",
        "print(c_initial.squeeze().size())\n",
        "\n",
        "niters = 100\n",
        "# Perform RK4 integration for multiple steps\n",
        "list_res = [c_initial]\n",
        "for _ in range(niters - 1):\n",
        "    result = rk4_solver([list_res[-1], u, v])\n",
        "    list_res.append(result)\n",
        "list_res = torch.cat(list_res).cpu().detach().numpy()\n",
        "print(list_res.shape)\n"
      ]
    },
    {
      "cell_type": "code",
      "execution_count": 84,
      "id": "44_8ouSgjaBg",
      "metadata": {
        "colab": {
          "base_uri": "https://localhost:8080/",
          "height": 742
        },
        "id": "44_8ouSgjaBg",
        "outputId": "a9e156c8-b2d5-4ef7-83e1-538cbb9ec0e1"
      },
      "outputs": [
        {
          "output_type": "error",
          "ename": "TypeError",
          "evalue": "list indices must be integers or slices, not tuple",
          "traceback": [
            "\u001b[0;31m---------------------------------------------------------------------------\u001b[0m",
            "\u001b[0;31mTypeError\u001b[0m                                 Traceback (most recent call last)",
            "\u001b[0;32m<ipython-input-84-adca7b13aa63>\u001b[0m in \u001b[0;36m<cell line: 6>\u001b[0;34m()\u001b[0m\n\u001b[1;32m      5\u001b[0m \u001b[0mstep\u001b[0m \u001b[0;34m=\u001b[0m \u001b[0;36m10\u001b[0m\u001b[0;34m\u001b[0m\u001b[0;34m\u001b[0m\u001b[0m\n\u001b[1;32m      6\u001b[0m \u001b[0;32mfor\u001b[0m \u001b[0mi\u001b[0m \u001b[0;32min\u001b[0m \u001b[0mrange\u001b[0m\u001b[0;34m(\u001b[0m\u001b[0;36m10\u001b[0m\u001b[0;34m)\u001b[0m\u001b[0;34m:\u001b[0m\u001b[0;34m\u001b[0m\u001b[0;34m\u001b[0m\u001b[0m\n\u001b[0;32m----> 7\u001b[0;31m     \u001b[0mim\u001b[0m \u001b[0;34m=\u001b[0m \u001b[0maxes\u001b[0m\u001b[0;34m[\u001b[0m\u001b[0mi\u001b[0m\u001b[0;34m]\u001b[0m\u001b[0;34m.\u001b[0m\u001b[0mimshow\u001b[0m\u001b[0;34m(\u001b[0m\u001b[0mlist_res\u001b[0m\u001b[0;34m[\u001b[0m\u001b[0mstep\u001b[0m \u001b[0;34m*\u001b[0m \u001b[0mi\u001b[0m\u001b[0;34m,\u001b[0m \u001b[0;36m0\u001b[0m\u001b[0;34m,\u001b[0m \u001b[0;34m:\u001b[0m\u001b[0;34m,\u001b[0m \u001b[0;34m:\u001b[0m\u001b[0;34m]\u001b[0m\u001b[0;34m,\u001b[0m\u001b[0morigin\u001b[0m\u001b[0;34m=\u001b[0m\u001b[0;34m'lower'\u001b[0m\u001b[0;34m)\u001b[0m\u001b[0;34m\u001b[0m\u001b[0;34m\u001b[0m\u001b[0m\n\u001b[0m\u001b[1;32m      8\u001b[0m     \u001b[0maxes\u001b[0m\u001b[0;34m[\u001b[0m\u001b[0mi\u001b[0m\u001b[0;34m]\u001b[0m\u001b[0;34m.\u001b[0m\u001b[0mset_title\u001b[0m\u001b[0;34m(\u001b[0m\u001b[0;34mf\"t={step * i}\"\u001b[0m\u001b[0;34m)\u001b[0m\u001b[0;34m\u001b[0m\u001b[0;34m\u001b[0m\u001b[0m\n\u001b[1;32m      9\u001b[0m     \u001b[0mplt\u001b[0m\u001b[0;34m.\u001b[0m\u001b[0mcolorbar\u001b[0m\u001b[0;34m(\u001b[0m\u001b[0mim\u001b[0m\u001b[0;34m,\u001b[0m \u001b[0max\u001b[0m\u001b[0;34m=\u001b[0m\u001b[0maxes\u001b[0m\u001b[0;34m[\u001b[0m\u001b[0mi\u001b[0m\u001b[0;34m]\u001b[0m\u001b[0;34m)\u001b[0m\u001b[0;34m\u001b[0m\u001b[0;34m\u001b[0m\u001b[0m\n",
            "\u001b[0;31mTypeError\u001b[0m: list indices must be integers or slices, not tuple"
          ]
        },
        {
          "output_type": "display_data",
          "data": {
            "text/plain": [
              "<Figure size 2500x700 with 10 Axes>"
            ],
            "image/png": "[encoded data removed]"
          },
          "metadata": {}
        }
      ],
      "source": [
        "import matplotlib.pyplot as plt\n",
        "\n",
        "fig,axes = plt.subplots(2,5,figsize=(25,7))\n",
        "axes=axes.flatten()\n",
        "step = 10\n",
        "for i in range(10):\n",
        "    im = axes[i].imshow(list_res[step * i, 0, :, :],origin='lower')\n",
        "    axes[i].set_title(f\"t={step * i}\")\n",
        "    plt.colorbar(im, ax=axes[i])\n",
        "plt.grid(False)\n",
        "plt.show()"
      ]
    },
    {
      "cell_type": "markdown",
      "id": "522e675a",
      "metadata": {
        "id": "522e675a"
      },
      "source": [
        "### Task 4: Modeling the Advection-Diffusion equation\n",
        "#### Question:\n",
        "- Implement the `AdvectionDiffusionCentralDiff` class, which models the next advection-diffusion equation using central difference scheme.\n",
        "$$\\frac{\\partial f}{\\partial t} + V\\cdot \\nabla f = D\\cdot \\nabla^2 f$$\n",
        "where \\(V\\) is the velocity (field or scalar), \\(D\\) is the diffusion coefficient, and \\(f\\) is the function to be solved.\n",
        "where \\(D\\) is the diffusion coefficient. The \\(D\\) should be given as input along with the velocity \\(V\\)."
      ]
    },
    {
      "cell_type": "code",
      "execution_count": null,
      "id": "451009a0",
      "metadata": {
        "id": "451009a0"
      },
      "outputs": [],
      "source": [
        "class AdvectionDiffusionCentralDiff(nn.Module):\n",
        "    ..."
      ]
    },
    {
      "cell_type": "markdown",
      "id": "c1b65de5",
      "metadata": {
        "id": "c1b65de5"
      },
      "source": [
        "### Task 5: Solving the advection-diffusion equation using the implemented classes\n",
        "#### Question:\n",
        "1. Instantiate an object of the `AdvectionDiffusionCentralDiff` class.\n",
        "2. Instantiate an object of the `RungeKutta4` class, passing the `AdvectionDiffusionCentralDiff` object as a parameter.\n",
        "3. Make sure that the time step verifies the CFL condition.\n",
        "4. The diffusion coefficient \\(D\\) should verify, $D \\leq \\frac{\\Delta x^2}{2\\Delta t}$.\n",
        "5. Perform 100 iterations of the time integration scheme.\n",
        "6. Check that you get an advection equation when \\(D = 0\\).\n",
        "\n",
        "Note: Don't worry if the solution diverges, it's not the goal of this exam !"
      ]
    },
    {
      "cell_type": "code",
      "execution_count": null,
      "id": "70b1deba-fd36-468e-9ad7-96c3eeedaf32",
      "metadata": {
        "id": "70b1deba-fd36-468e-9ad7-96c3eeedaf32"
      },
      "outputs": [],
      "source": []
    }
  ],
  "metadata": {
    "colab": {
      "provenance": []
    },
    "kernelspec": {
      "display_name": "Python 3 (ipykernel)",
      "language": "python",
      "name": "python3"
    },
    "language_info": {
      "codemirror_mode": {
        "name": "ipython",
        "version": 3
      },
      "file_extension": ".py",
      "mimetype": "text/x-python",
      "name": "python",
      "nbconvert_exporter": "python",
      "pygments_lexer": "ipython3",
      "version": "3.9.7"
    }
  },
  "nbformat": 4,
  "nbformat_minor": 5
}